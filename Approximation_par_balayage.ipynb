{
  "cells": [
    {
      "cell_type": "markdown",
      "metadata": {
        "id": "view-in-github",
        "colab_type": "text"
      },
      "source": [
        "<a href=\"https://colab.research.google.com/github/profGeneve/Numpy-Tricks/blob/main/Approximation_par_balayage.ipynb\" target=\"_parent\"><img src=\"https://colab.research.google.com/assets/colab-badge.svg\" alt=\"Open In Colab\"/></a>"
      ]
    },
    {
      "metadata": {
        "id": "RztQVZ3ARUi0"
      },
      "cell_type": "markdown",
      "source": [
        "<span style=\"color: #9317B4\"> Pour exécuter une saisie Python, sélectionner la cellule et valider avec </span><span style=\"color: #B317B4\"><strong>SHIFT+Entrée</strong></span>.\n"
      ]
    },
    {
      "cell_type": "markdown",
      "source": [],
      "metadata": {
        "id": "bPk9xmt8RZuY"
      }
    },
    {
      "metadata": {
        "id": "2slclBhmRUi5"
      },
      "cell_type": "markdown",
      "source": [
        "\n",
        "# Approximation par balayage <span style=\"color: red\"> (corrigé)</span> \n"
      ]
    },
    {
      "metadata": {
        "id": "FBLDXABoRUi5"
      },
      "cell_type": "markdown",
      "source": [
        "On considère la fonction $f$ définie sur $[0;+\\infty[$ par $f(x)=x^2$.\n",
        "\n",
        "![Fonction carré](https://raw.githubusercontent.com/PythonLycee/PyLyc/master/img/Approximation_par_balayage_carre.png)\n",
        "\n",
        "On admet que la fonction $f$ est croissante sur $[0;+\\infty[$ et que l’équation $f(x)=2$ \n",
        "a une unique solution sur $[0;+\\infty[$, notée $\\sqrt{2}$. \n",
        "Le but de l’exercice est d’obtenir des valeurs approchées de $\\sqrt{2}$.\n"
      ]
    },
    {
      "metadata": {
        "id": "25bXxWBRRUi6"
      },
      "cell_type": "markdown",
      "source": [
        "__1. Ecrire une fonction Python $f$ qui reçoit une valeur $x$ en argument et renvoie l’image de $x$ par la fonction $f$.__\n"
      ]
    },
    {
      "metadata": {
        "trusted": false,
        "id": "_QyHwtpJRUi6"
      },
      "cell_type": "code",
      "source": [
        "# Ecrire la fonction\n"
      ],
      "execution_count": null,
      "outputs": []
    },
    {
      "metadata": {
        "id": "z9EGYQqLRUi7"
      },
      "cell_type": "markdown",
      "source": [
        "__2.\tLa fonction ci-dessous permet d’obtenir des images successives par la fonction $f$ sur l’intervalle $[1;2]$, avec un pas de $10^{-1}=0,1$.__\n"
      ]
    },
    {
      "metadata": {
        "trusted": false,
        "id": "xb6t8wFSRUi8"
      },
      "cell_type": "code",
      "source": [
        "def balayage(f):\n",
        "    \n",
        "    x=1\n",
        "    while x<2:\n",
        "        print(\"f(\",x,\")=\",f(x))\n",
        "        x = x+0.1\n",
        "    \n",
        "    return None"
      ],
      "execution_count": null,
      "outputs": []
    },
    {
      "metadata": {
        "id": "L4YzkPRVRUi8"
      },
      "cell_type": "markdown",
      "source": [
        "__Utiliser cette fonction pour compléter le tableau :__\n",
        "\n",
        "|   $x$      | $1  $ | $1.1$ |$1.2$ |$1.3$ |$1.4$ |$1.5$ |$1.6$ |$1.7$ |$1.8$ |$1.9$ |$2  $ |\n",
        "| :-------:  |:--:   | :--:  | :--: | :--: | :--: | :--: | :--: | :--: | :--: | :--: | :--: |\n",
        "|   $f$$($$x$$)$   |       |       |      |      |      |      |      |      |      |      |      |\n"
      ]
    },
    {
      "metadata": {
        "trusted": false,
        "id": "ZPPsBTctRUi9"
      },
      "cell_type": "code",
      "source": [
        "# Effectuer les saisies nécessaires\n"
      ],
      "execution_count": null,
      "outputs": []
    },
    {
      "metadata": {
        "id": "4k2BF4FtRUi9"
      },
      "cell_type": "markdown",
      "source": [
        "__Pour quelle valeur $x_1$ du tableau a-t-on $x_1 \\leqslant \\sqrt{2} \\leqslant x_1+0,1$ ? Justifier.__\n",
        "\n",
        "__Modifier la fonction précédente pour qu’elle renvoie cette valeur $x_1$.__\n",
        "\n",
        "\n",
        "\n",
        "\n",
        "<span style=\"color: #888888\">Aides : On pourra, entre autres, modifier la condition de la boucle while.\n",
        "On pourra supprimer les affichages réalisés avec l’instruction print.</span> \n"
      ]
    },
    {
      "metadata": {
        "trusted": false,
        "id": "nTwRDo3FRUi-"
      },
      "cell_type": "code",
      "source": [
        "# Fonction modifiée:\n",
        "\n",
        "\n",
        "\n",
        "# Appel à la fonction modifiée:\n"
      ],
      "execution_count": null,
      "outputs": []
    },
    {
      "metadata": {
        "id": "zghqn53KRUi-"
      },
      "cell_type": "markdown",
      "source": [
        "__3. Compléter la fonction pour qu’elle effectue, à partir de cette valeur $x_1$, un nouveau balayage de pas $10^{-2}=0,01$.__\n",
        "\n",
        "__La fonction renverra une valeur $x_2$ telle que $x_2 \\leqslant \\sqrt{2} \\leqslant x_2+0,01$.__"
      ]
    },
    {
      "metadata": {
        "trusted": false,
        "id": "74enjsyoRUi-"
      },
      "cell_type": "code",
      "source": [
        "# Fonction modifiée:\n",
        "\n",
        "\n",
        "    \n",
        "# Appel à la fonction modifiée:\n"
      ],
      "execution_count": null,
      "outputs": []
    },
    {
      "metadata": {
        "id": "hoixXftxRUi_"
      },
      "cell_type": "markdown",
      "source": [
        "__4. Compléter la fonction pour qu’elle renvoie une valeur $x_3$ telle que $x_3 \\leqslant \\sqrt{2} \\leqslant x_3+0,001$.__"
      ]
    },
    {
      "metadata": {
        "trusted": false,
        "id": "fwQtCQcGRUi_"
      },
      "cell_type": "code",
      "source": [
        "# Fonction modifiée:\n",
        "\n",
        "\n",
        "    \n",
        "# Appel à la fonction modifiée:\n",
        "\n"
      ],
      "execution_count": null,
      "outputs": []
    },
    {
      "metadata": {
        "id": "4CCZcSYxRUjA"
      },
      "cell_type": "markdown",
      "source": [
        "__5. \tEn ajoutant une boucle, modifier la fonction précédente pour qu’elle renvoie une valeur $x_n$ telle que $x_n \\leqslant \\sqrt{2} \\leqslant x_n+10^{-n}$, où $n$ est une valeur donnée en argument de la fonction.__"
      ]
    },
    {
      "metadata": {
        "trusted": false,
        "id": "XygbWbPwRUjA"
      },
      "cell_type": "code",
      "source": [
        "# Fonction modifiée:\n",
        "\n",
        "\n"
      ],
      "execution_count": null,
      "outputs": []
    },
    {
      "metadata": {
        "id": "3y-zYeGYRUjB"
      },
      "cell_type": "markdown",
      "source": [
        "__Donner une valeur approchée de $\\sqrt{2}$ à $10^{-7}$ près.__"
      ]
    },
    {
      "metadata": {
        "trusted": false,
        "id": "h7CqSkX2RUjB"
      },
      "cell_type": "code",
      "source": [
        "# Appel à la fonction modifiée:\n"
      ],
      "execution_count": null,
      "outputs": []
    },
    {
      "metadata": {
        "id": "9QE1FlOfRUjC"
      },
      "cell_type": "markdown",
      "source": [
        "![Cardan](https://raw.githubusercontent.com/PythonLycee/PyLyc/master/img/Cardan.jpg)\n",
        "\n",
        "<center> <a href=\"https://fr.wikipedia.org/wiki/J%C3%A9r%C3%B4me_Cardan\">Jérôme Cardan</a> (1501-1576) fut un des premiers à justifier la méthode d'approximation par balayage.</center>"
      ]
    }
  ],
  "metadata": {
    "celltoolbar": "Raw Cell Format",
    "kernelspec": {
      "display_name": "Python 3",
      "language": "python",
      "name": "python3"
    },
    "colab": {
      "provenance": [],
      "include_colab_link": true
    }
  },
  "nbformat": 4,
  "nbformat_minor": 0
}